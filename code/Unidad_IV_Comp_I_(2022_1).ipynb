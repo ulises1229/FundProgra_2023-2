{
  "nbformat": 4,
  "nbformat_minor": 0,
  "metadata": {
    "colab": {
      "name": "Unidad IV Comp I (2022-1).ipynb",
      "private_outputs": true,
      "provenance": [],
      "collapsed_sections": [],
      "authorship_tag": "ABX9TyODLj1UifGzScubKh0cXlsC",
      "include_colab_link": true
    },
    "kernelspec": {
      "name": "python3",
      "display_name": "Python 3"
    },
    "language_info": {
      "name": "python"
    }
  },
  "cells": [
    {
      "cell_type": "markdown",
      "metadata": {
        "id": "view-in-github",
        "colab_type": "text"
      },
      "source": [
        "<a href=\"https://colab.research.google.com/github/ulises1229/2022-1-Comp-I/blob/main/code/Unidad_IV_Comp_I_(2022_1).ipynb\" target=\"_parent\"><img src=\"https://colab.research.google.com/assets/colab-badge.svg\" alt=\"Open In Colab\"/></a>"
      ]
    },
    {
      "cell_type": "markdown",
      "metadata": {
        "id": "OydcJ_QjAAZZ"
      },
      "source": [
        "# Computación I\n",
        "\n",
        "Primer programa de prueba"
      ]
    },
    {
      "cell_type": "code",
      "metadata": {
        "id": "oX4-s3aq_1ua"
      },
      "source": [
        "print(\"Hola\")"
      ],
      "execution_count": null,
      "outputs": []
    }
  ]
}